{
 "cells": [
  {
   "cell_type": "code",
   "execution_count": 1,
   "metadata": {},
   "outputs": [],
   "source": [
    "import mdtraj as md"
   ]
  },
  {
   "cell_type": "code",
   "execution_count": 21,
   "metadata": {},
   "outputs": [],
   "source": [
    "# Load reference -- the equilibrated PDB from 17309, with solvent stripped\n",
    "reference = md.load_pdb(\"PDBs/01_with_h/rbd_ace2_no_water.pdb\")"
   ]
  },
  {
   "cell_type": "code",
   "execution_count": 22,
   "metadata": {},
   "outputs": [],
   "source": [
    "# Save snapshots from 100 ns in\n",
    "traj_path = \"/data/chodera/glassw/covid_vir/PROJ17309\"\n",
    "xtc_file = f\"{traj_path}/CLONE0/results38/positions.xtc\"\n",
    "traj_0 = md.load_xtc(xtc_file, top=reference)[9]\n",
    "\n",
    "xtc_file = f\"{traj_path}/CLONE1/results51/positions.xtc\"\n",
    "traj_1 = md.load_xtc(xtc_file, top=reference)[9]\n",
    "\n",
    "xtc_file = f\"{traj_path}/CLONE2/results58/positions.xtc\"\n",
    "traj_2 = md.load_xtc(xtc_file, top=reference)[9]"
   ]
  },
  {
   "cell_type": "code",
   "execution_count": 23,
   "metadata": {},
   "outputs": [],
   "source": [
    "# Combine the frames into one traj\n",
    "combined = traj_0.join(traj_1)\n",
    "combined = combined.join(traj_2)\n",
    "\n",
    "# Remove ions\n",
    "combined_solute = combined.atom_slice(combined.top.select(\"not (resname 'Na+' or resname 'Cl-')\"))\n",
    "reference_solute = reference.atom_slice(reference.top.select(\"not (resname 'Na+' or resname 'Cl-')\"))"
   ]
  },
  {
   "cell_type": "code",
   "execution_count": 24,
   "metadata": {},
   "outputs": [
    {
     "data": {
      "text/plain": [
       "<mdtraj.Trajectory with 3 frames, 15974 atoms, 975 residues, and unitcells at 0x2b3f3aa8c210>"
      ]
     },
     "execution_count": 24,
     "metadata": {},
     "output_type": "execute_result"
    }
   ],
   "source": [
    "# Align the frames to the reference \n",
    "combined_solute.superpose(reference_solute)\n",
    "\n"
   ]
  },
  {
   "cell_type": "code",
   "execution_count": 25,
   "metadata": {},
   "outputs": [],
   "source": [
    "# Save \n",
    "combined_solute[0].save(\"17309_CLONE0_GEN38.pdb\")\n",
    "combined_solute[1].save(\"17309_CLONE1_GEN51.pdb\")\n",
    "combined_solute[2].save(\"17309_CLONE2_GEN58.pdb\")"
   ]
  },
  {
   "cell_type": "code",
   "execution_count": 26,
   "metadata": {},
   "outputs": [
    {
     "data": {
      "text/plain": [
       "array([0.5027158 , 0.5437968 , 0.53858054], dtype=float32)"
      ]
     },
     "execution_count": 26,
     "metadata": {},
     "output_type": "execute_result"
    }
   ],
   "source": [
    "# Get RMSD of each of the frames w.r.t to reference\n",
    "md.rmsd(combined_solute, reference_solute)"
   ]
  },
  {
   "cell_type": "code",
   "execution_count": null,
   "metadata": {},
   "outputs": [],
   "source": []
  },
  {
   "cell_type": "code",
   "execution_count": null,
   "metadata": {},
   "outputs": [],
   "source": []
  }
 ],
 "metadata": {
  "kernelspec": {
   "display_name": "Python 3",
   "language": "python",
   "name": "python3"
  },
  "language_info": {
   "codemirror_mode": {
    "name": "ipython",
    "version": 3
   },
   "file_extension": ".py",
   "mimetype": "text/x-python",
   "name": "python",
   "nbconvert_exporter": "python",
   "pygments_lexer": "ipython3",
   "version": "3.7.8"
  }
 },
 "nbformat": 4,
 "nbformat_minor": 4
}
